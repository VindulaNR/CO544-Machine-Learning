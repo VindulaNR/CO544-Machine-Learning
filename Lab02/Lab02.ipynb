{
  "nbformat": 4,
  "nbformat_minor": 0,
  "metadata": {
    "colab": {
      "name": "Lab02.ipynb",
      "provenance": []
    },
    "kernelspec": {
      "name": "python3",
      "display_name": "Python 3"
    },
    "language_info": {
      "name": "python"
    }
  },
  "cells": [
    {
      "cell_type": "code",
      "metadata": {
        "id": "4I84b43ipCei"
      },
      "source": [
        "import numpy as np\n",
        "import pandas as pd\n",
        "import matplotlib.pyplot as plt"
      ],
      "execution_count": null,
      "outputs": []
    },
    {
      "cell_type": "code",
      "metadata": {
        "id": "hT-Kl-LpA8Ce"
      },
      "source": [
        "x= np.array([1,2,3,4,5,6,7,8,9,10])\n",
        "y= np.array([2,5,7,8,9,11,14,15,17,19]) "
      ],
      "execution_count": null,
      "outputs": []
    },
    {
      "cell_type": "code",
      "metadata": {
        "colab": {
          "base_uri": "https://localhost:8080/"
        },
        "id": "qqjVn7ehBZv2",
        "outputId": "94dffd2e-83b2-47a5-9588-706d854a6c09"
      },
      "source": [
        "n= np.size(x)\n",
        "n"
      ],
      "execution_count": null,
      "outputs": [
        {
          "output_type": "execute_result",
          "data": {
            "text/plain": [
              "10"
            ]
          },
          "metadata": {
            "tags": []
          },
          "execution_count": 6
        }
      ]
    },
    {
      "cell_type": "code",
      "metadata": {
        "colab": {
          "base_uri": "https://localhost:8080/"
        },
        "id": "70dXjMM7C5gK",
        "outputId": "3c1127e2-6ea2-4881-c1f7-663c83d8aa88"
      },
      "source": [
        "mx= np.mean(x) \n",
        "my= np.mean(y)\n",
        "mx,my"
      ],
      "execution_count": null,
      "outputs": [
        {
          "output_type": "execute_result",
          "data": {
            "text/plain": [
              "(5.5, 10.7)"
            ]
          },
          "metadata": {
            "tags": []
          },
          "execution_count": 11
        }
      ]
    },
    {
      "cell_type": "code",
      "metadata": {
        "colab": {
          "base_uri": "https://localhost:8080/"
        },
        "id": "SgAJt9fAGgMf",
        "outputId": "b8023e4e-deb3-454d-e6cd-7a3da77b9304"
      },
      "source": [
        "SSxy = np.sum(y*x) - n*(mx)*(my)\n",
        "SSxx = np.sum(x*x) - n*(mx)*(mx)\n",
        "SSxx,SSxy"
      ],
      "execution_count": null,
      "outputs": [
        {
          "output_type": "execute_result",
          "data": {
            "text/plain": [
              "(82.5, 148.5)"
            ]
          },
          "metadata": {
            "tags": []
          },
          "execution_count": 23
        }
      ]
    },
    {
      "cell_type": "code",
      "metadata": {
        "colab": {
          "base_uri": "https://localhost:8080/"
        },
        "id": "_JxSHnZDJmbi",
        "outputId": "37be966a-94f8-4b82-8426-0d3b930503d3"
      },
      "source": [
        "b1 = SSxy/SSxx\n",
        "b0 = my - b1*mx\n",
        "b0,b1"
      ],
      "execution_count": null,
      "outputs": [
        {
          "output_type": "execute_result",
          "data": {
            "text/plain": [
              "(0.7999999999999989, 1.8)"
            ]
          },
          "metadata": {
            "tags": []
          },
          "execution_count": 27
        }
      ]
    },
    {
      "cell_type": "code",
      "metadata": {
        "colab": {
          "base_uri": "https://localhost:8080/"
        },
        "id": "_ocP_UkhKkbQ",
        "outputId": "e83bdb75-e527-47c1-a516-a3f4dea32b1f"
      },
      "source": [
        "print(\"The regression line is : y={}+{}*x\".format(b0,b1))"
      ],
      "execution_count": null,
      "outputs": [
        {
          "output_type": "stream",
          "text": [
            "The regression line is : y=0.7999999999999989+1.8*x\n"
          ],
          "name": "stdout"
        }
      ]
    },
    {
      "cell_type": "code",
      "metadata": {
        "colab": {
          "base_uri": "https://localhost:8080/"
        },
        "id": "HgP8IEGDKSPZ",
        "outputId": "efd68a3b-f12a-4ce4-8585-d88983985ff7"
      },
      "source": [
        "y_pred = b0 + b1*x\n",
        "y_pred"
      ],
      "execution_count": null,
      "outputs": [
        {
          "output_type": "execute_result",
          "data": {
            "text/plain": [
              "array([ 2.6,  4.4,  6.2,  8. ,  9.8, 11.6, 13.4, 15.2, 17. , 18.8])"
            ]
          },
          "metadata": {
            "tags": []
          },
          "execution_count": 31
        }
      ]
    },
    {
      "cell_type": "code",
      "metadata": {
        "colab": {
          "base_uri": "https://localhost:8080/",
          "height": 265
        },
        "id": "XdqboMJNLTH4",
        "outputId": "b79ed8cf-5304-4acb-bc1a-2e96d15e626d"
      },
      "source": [
        "plt.plot(x, y_pred, color = \"r\") "
      ],
      "execution_count": null,
      "outputs": [
        {
          "output_type": "display_data",
          "data": {
            "image/png": "[encoded data removed]",
            "text/plain": [
              "<Figure size 432x288 with 1 Axes>"
            ]
          },
          "metadata": {
            "tags": [],
            "needs_background": "light"
          }
        }
      ]
    },
    {
      "cell_type": "code",
      "metadata": {
        "colab": {
          "base_uri": "https://localhost:8080/",
          "height": 295
        },
        "id": "K9da857nKD_v",
        "outputId": "2d27a68b-1969-4445-a4bb-04333e47c0f5"
      },
      "source": [
        "plt.scatter(x, y,color = \"b\", marker = \"*\",s = 60) \n",
        "plt.title('Simple Linear Regression') \n",
        "plt.xlabel('Independent Variable') \n",
        "plt.ylabel('Dependent Variable')\n",
        "plt.plot(x, y_pred, color = \"r\") \n",
        "plt.show()"
      ],
      "execution_count": null,
      "outputs": [
        {
          "output_type": "display_data",
          "data": {
            "image/png": "[encoded data removed]",
            "text/plain": [
              "<Figure size 432x288 with 1 Axes>"
            ]
          },
          "metadata": {
            "tags": [],
            "needs_background": "light"
          }
        }
      ]
    },
    {
      "cell_type": "code",
      "metadata": {
        "id": "M8j7zXOwLdW2"
      },
      "source": [
        ""
      ],
      "execution_count": null,
      "outputs": []
    },
    {
      "cell_type": "code",
      "metadata": {
        "colab": {
          "base_uri": "https://localhost:8080/"
        },
        "id": "xhJgp_ZTohY4",
        "outputId": "d4a54e57-ebb6-4d02-c772-ff0ce31a2177"
      },
      "source": [
        "from google.colab import drive\n",
        "drive.mount('/content/drive')"
      ],
      "execution_count": null,
      "outputs": [
        {
          "output_type": "stream",
          "text": [
            "Mounted at /content/drive\n"
          ],
          "name": "stdout"
        }
      ]
    },
    {
      "cell_type": "code",
      "metadata": {
        "colab": {
          "base_uri": "https://localhost:8080/",
          "height": 729
        },
        "id": "1zCM4ZlepGtN",
        "outputId": "b0d4535a-ea90-4e96-e374-83f35c91bab8"
      },
      "source": [
        "pd.set_option('display.min_rows',20)\n",
        "df=pd.read_csv('/content/drive/My Drive/CO544/Lab02/Boston_Housing.csv')\n",
        "df"
      ],
      "execution_count": null,
      "outputs": [
        {
          "output_type": "execute_result",
          "data": {
            "text/html": [
              "<div>\n",
              "<style scoped>\n",
              "    .dataframe tbody tr th:only-of-type {\n",
              "        vertical-align: middle;\n",
              "    }\n",
              "\n",
              "    .dataframe tbody tr th {\n",
              "        vertical-align: top;\n",
              "    }\n",
              "\n",
              "    .dataframe thead th {\n",
              "        text-align: right;\n",
              "    }\n",
              "</style>\n",
              "<table border=\"1\" class=\"dataframe\">\n",
              "  <thead>\n",
              "    <tr style=\"text-align: right;\">\n",
              "      <th></th>\n",
              "      <th>RM</th>\n",
              "      <th>LSTAT</th>\n",
              "      <th>PTRATIO</th>\n",
              "      <th>MEDV</th>\n",
              "    </tr>\n",
              "  </thead>\n",
              "  <tbody>\n",
              "    <tr>\n",
              "      <th>0</th>\n",
              "      <td>6.575</td>\n",
              "      <td>4.98</td>\n",
              "      <td>15.3</td>\n",
              "      <td>504000.0</td>\n",
              "    </tr>\n",
              "    <tr>\n",
              "      <th>1</th>\n",
              "      <td>6.421</td>\n",
              "      <td>9.14</td>\n",
              "      <td>17.8</td>\n",
              "      <td>453600.0</td>\n",
              "    </tr>\n",
              "    <tr>\n",
              "      <th>2</th>\n",
              "      <td>7.185</td>\n",
              "      <td>4.03</td>\n",
              "      <td>17.8</td>\n",
              "      <td>728700.0</td>\n",
              "    </tr>\n",
              "    <tr>\n",
              "      <th>3</th>\n",
              "      <td>6.998</td>\n",
              "      <td>2.94</td>\n",
              "      <td>18.7</td>\n",
              "      <td>701400.0</td>\n",
              "    </tr>\n",
              "    <tr>\n",
              "      <th>4</th>\n",
              "      <td>7.147</td>\n",
              "      <td>5.33</td>\n",
              "      <td>18.7</td>\n",
              "      <td>760200.0</td>\n",
              "    </tr>\n",
              "    <tr>\n",
              "      <th>5</th>\n",
              "      <td>6.430</td>\n",
              "      <td>5.21</td>\n",
              "      <td>18.7</td>\n",
              "      <td>602700.0</td>\n",
              "    </tr>\n",
              "    <tr>\n",
              "      <th>6</th>\n",
              "      <td>6.012</td>\n",
              "      <td>12.43</td>\n",
              "      <td>15.2</td>\n",
              "      <td>480900.0</td>\n",
              "    </tr>\n",
              "    <tr>\n",
              "      <th>7</th>\n",
              "      <td>6.172</td>\n",
              "      <td>19.15</td>\n",
              "      <td>15.2</td>\n",
              "      <td>569100.0</td>\n",
              "    </tr>\n",
              "    <tr>\n",
              "      <th>8</th>\n",
              "      <td>5.631</td>\n",
              "      <td>29.93</td>\n",
              "      <td>15.2</td>\n",
              "      <td>346500.0</td>\n",
              "    </tr>\n",
              "    <tr>\n",
              "      <th>9</th>\n",
              "      <td>6.004</td>\n",
              "      <td>17.10</td>\n",
              "      <td>15.2</td>\n",
              "      <td>396900.0</td>\n",
              "    </tr>\n",
              "    <tr>\n",
              "      <th>...</th>\n",
              "      <td>...</td>\n",
              "      <td>...</td>\n",
              "      <td>...</td>\n",
              "      <td>...</td>\n",
              "    </tr>\n",
              "    <tr>\n",
              "      <th>479</th>\n",
              "      <td>5.390</td>\n",
              "      <td>21.14</td>\n",
              "      <td>19.2</td>\n",
              "      <td>413700.0</td>\n",
              "    </tr>\n",
              "    <tr>\n",
              "      <th>480</th>\n",
              "      <td>5.794</td>\n",
              "      <td>14.10</td>\n",
              "      <td>19.2</td>\n",
              "      <td>384300.0</td>\n",
              "    </tr>\n",
              "    <tr>\n",
              "      <th>481</th>\n",
              "      <td>6.019</td>\n",
              "      <td>12.92</td>\n",
              "      <td>19.2</td>\n",
              "      <td>445200.0</td>\n",
              "    </tr>\n",
              "    <tr>\n",
              "      <th>482</th>\n",
              "      <td>5.569</td>\n",
              "      <td>15.10</td>\n",
              "      <td>19.2</td>\n",
              "      <td>367500.0</td>\n",
              "    </tr>\n",
              "    <tr>\n",
              "      <th>483</th>\n",
              "      <td>6.027</td>\n",
              "      <td>14.33</td>\n",
              "      <td>19.2</td>\n",
              "      <td>352800.0</td>\n",
              "    </tr>\n",
              "    <tr>\n",
              "      <th>484</th>\n",
              "      <td>6.593</td>\n",
              "      <td>9.67</td>\n",
              "      <td>21.0</td>\n",
              "      <td>470400.0</td>\n",
              "    </tr>\n",
              "    <tr>\n",
              "      <th>485</th>\n",
              "      <td>6.120</td>\n",
              "      <td>9.08</td>\n",
              "      <td>21.0</td>\n",
              "      <td>432600.0</td>\n",
              "    </tr>\n",
              "    <tr>\n",
              "      <th>486</th>\n",
              "      <td>6.976</td>\n",
              "      <td>5.64</td>\n",
              "      <td>21.0</td>\n",
              "      <td>501900.0</td>\n",
              "    </tr>\n",
              "    <tr>\n",
              "      <th>487</th>\n",
              "      <td>6.794</td>\n",
              "      <td>6.48</td>\n",
              "      <td>21.0</td>\n",
              "      <td>462000.0</td>\n",
              "    </tr>\n",
              "    <tr>\n",
              "      <th>488</th>\n",
              "      <td>6.030</td>\n",
              "      <td>7.88</td>\n",
              "      <td>21.0</td>\n",
              "      <td>249900.0</td>\n",
              "    </tr>\n",
              "  </tbody>\n",
              "</table>\n",
              "<p>489 rows × 4 columns</p>\n",
              "</div>"
            ],
            "text/plain": [
              "        RM  LSTAT  PTRATIO      MEDV\n",
              "0    6.575   4.98     15.3  504000.0\n",
              "1    6.421   9.14     17.8  453600.0\n",
              "2    7.185   4.03     17.8  728700.0\n",
              "3    6.998   2.94     18.7  701400.0\n",
              "4    7.147   5.33     18.7  760200.0\n",
              "5    6.430   5.21     18.7  602700.0\n",
              "6    6.012  12.43     15.2  480900.0\n",
              "7    6.172  19.15     15.2  569100.0\n",
              "8    5.631  29.93     15.2  346500.0\n",
              "9    6.004  17.10     15.2  396900.0\n",
              "..     ...    ...      ...       ...\n",
              "479  5.390  21.14     19.2  413700.0\n",
              "480  5.794  14.10     19.2  384300.0\n",
              "481  6.019  12.92     19.2  445200.0\n",
              "482  5.569  15.10     19.2  367500.0\n",
              "483  6.027  14.33     19.2  352800.0\n",
              "484  6.593   9.67     21.0  470400.0\n",
              "485  6.120   9.08     21.0  432600.0\n",
              "486  6.976   5.64     21.0  501900.0\n",
              "487  6.794   6.48     21.0  462000.0\n",
              "488  6.030   7.88     21.0  249900.0\n",
              "\n",
              "[489 rows x 4 columns]"
            ]
          },
          "metadata": {
            "tags": []
          },
          "execution_count": 5
        }
      ]
    },
    {
      "cell_type": "code",
      "metadata": {
        "id": "jE4bLsvVQ9Mu"
      },
      "source": [
        "from sklearn import datasets\n",
        "from sklearn.linear model import LogisticRegression\n",
        "from sklearn.model selection import train test split"
      ],
      "execution_count": null,
      "outputs": []
    }
  ]
}