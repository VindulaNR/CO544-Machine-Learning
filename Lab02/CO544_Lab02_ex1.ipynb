{
  "nbformat": 4,
  "nbformat_minor": 0,
  "metadata": {
    "colab": {
      "name": "CO544_Lab02_ex1.ipynb",
      "provenance": []
    },
    "kernelspec": {
      "name": "python3",
      "display_name": "Python 3"
    },
    "language_info": {
      "name": "python"
    }
  },
  "cells": [
    {
      "cell_type": "code",
      "metadata": {
        "colab": {
          "base_uri": "https://localhost:8080/"
        },
        "id": "KAyo6cvuGsfc",
        "outputId": "aadf838d-aec3-403e-85f9-2d8ac0b81822"
      },
      "source": [
        "import numpy as np\n",
        "import pandas as pd\n",
        "import matplotlib.pyplot as plt\n",
        "from google.colab import drive\n",
        "drive.mount('/content/drive')"
      ],
      "execution_count": null,
      "outputs": [
        {
          "output_type": "stream",
          "text": [
            "Mounted at /content/drive\n"
          ],
          "name": "stdout"
        }
      ]
    },
    {
      "cell_type": "code",
      "metadata": {
        "colab": {
          "base_uri": "https://localhost:8080/",
          "height": 729
        },
        "id": "-ZYOBRSqHEpc",
        "outputId": "dd2e8a87-7573-4697-c872-32f56b3e818f"
      },
      "source": [
        "pd.set_option('display.min_rows',20)\n",
        "data=pd.read_csv('/content/drive/My Drive/CO544/Lab02/Boston_Housing.csv')\n",
        "data"
      ],
      "execution_count": null,
      "outputs": [
        {
          "output_type": "execute_result",
          "data": {
            "text/html": [
              "<div>\n",
              "<style scoped>\n",
              "    .dataframe tbody tr th:only-of-type {\n",
              "        vertical-align: middle;\n",
              "    }\n",
              "\n",
              "    .dataframe tbody tr th {\n",
              "        vertical-align: top;\n",
              "    }\n",
              "\n",
              "    .dataframe thead th {\n",
              "        text-align: right;\n",
              "    }\n",
              "</style>\n",
              "<table border=\"1\" class=\"dataframe\">\n",
              "  <thead>\n",
              "    <tr style=\"text-align: right;\">\n",
              "      <th></th>\n",
              "      <th>RM</th>\n",
              "      <th>LSTAT</th>\n",
              "      <th>PTRATIO</th>\n",
              "      <th>MEDV</th>\n",
              "    </tr>\n",
              "  </thead>\n",
              "  <tbody>\n",
              "    <tr>\n",
              "      <th>0</th>\n",
              "      <td>6.575</td>\n",
              "      <td>4.98</td>\n",
              "      <td>15.3</td>\n",
              "      <td>504000.0</td>\n",
              "    </tr>\n",
              "    <tr>\n",
              "      <th>1</th>\n",
              "      <td>6.421</td>\n",
              "      <td>9.14</td>\n",
              "      <td>17.8</td>\n",
              "      <td>453600.0</td>\n",
              "    </tr>\n",
              "    <tr>\n",
              "      <th>2</th>\n",
              "      <td>7.185</td>\n",
              "      <td>4.03</td>\n",
              "      <td>17.8</td>\n",
              "      <td>728700.0</td>\n",
              "    </tr>\n",
              "    <tr>\n",
              "      <th>3</th>\n",
              "      <td>6.998</td>\n",
              "      <td>2.94</td>\n",
              "      <td>18.7</td>\n",
              "      <td>701400.0</td>\n",
              "    </tr>\n",
              "    <tr>\n",
              "      <th>4</th>\n",
              "      <td>7.147</td>\n",
              "      <td>5.33</td>\n",
              "      <td>18.7</td>\n",
              "      <td>760200.0</td>\n",
              "    </tr>\n",
              "    <tr>\n",
              "      <th>5</th>\n",
              "      <td>6.430</td>\n",
              "      <td>5.21</td>\n",
              "      <td>18.7</td>\n",
              "      <td>602700.0</td>\n",
              "    </tr>\n",
              "    <tr>\n",
              "      <th>6</th>\n",
              "      <td>6.012</td>\n",
              "      <td>12.43</td>\n",
              "      <td>15.2</td>\n",
              "      <td>480900.0</td>\n",
              "    </tr>\n",
              "    <tr>\n",
              "      <th>7</th>\n",
              "      <td>6.172</td>\n",
              "      <td>19.15</td>\n",
              "      <td>15.2</td>\n",
              "      <td>569100.0</td>\n",
              "    </tr>\n",
              "    <tr>\n",
              "      <th>8</th>\n",
              "      <td>5.631</td>\n",
              "      <td>29.93</td>\n",
              "      <td>15.2</td>\n",
              "      <td>346500.0</td>\n",
              "    </tr>\n",
              "    <tr>\n",
              "      <th>9</th>\n",
              "      <td>6.004</td>\n",
              "      <td>17.10</td>\n",
              "      <td>15.2</td>\n",
              "      <td>396900.0</td>\n",
              "    </tr>\n",
              "    <tr>\n",
              "      <th>...</th>\n",
              "      <td>...</td>\n",
              "      <td>...</td>\n",
              "      <td>...</td>\n",
              "      <td>...</td>\n",
              "    </tr>\n",
              "    <tr>\n",
              "      <th>479</th>\n",
              "      <td>5.390</td>\n",
              "      <td>21.14</td>\n",
              "      <td>19.2</td>\n",
              "      <td>413700.0</td>\n",
              "    </tr>\n",
              "    <tr>\n",
              "      <th>480</th>\n",
              "      <td>5.794</td>\n",
              "      <td>14.10</td>\n",
              "      <td>19.2</td>\n",
              "      <td>384300.0</td>\n",
              "    </tr>\n",
              "    <tr>\n",
              "      <th>481</th>\n",
              "      <td>6.019</td>\n",
              "      <td>12.92</td>\n",
              "      <td>19.2</td>\n",
              "      <td>445200.0</td>\n",
              "    </tr>\n",
              "    <tr>\n",
              "      <th>482</th>\n",
              "      <td>5.569</td>\n",
              "      <td>15.10</td>\n",
              "      <td>19.2</td>\n",
              "      <td>367500.0</td>\n",
              "    </tr>\n",
              "    <tr>\n",
              "      <th>483</th>\n",
              "      <td>6.027</td>\n",
              "      <td>14.33</td>\n",
              "      <td>19.2</td>\n",
              "      <td>352800.0</td>\n",
              "    </tr>\n",
              "    <tr>\n",
              "      <th>484</th>\n",
              "      <td>6.593</td>\n",
              "      <td>9.67</td>\n",
              "      <td>21.0</td>\n",
              "      <td>470400.0</td>\n",
              "    </tr>\n",
              "    <tr>\n",
              "      <th>485</th>\n",
              "      <td>6.120</td>\n",
              "      <td>9.08</td>\n",
              "      <td>21.0</td>\n",
              "      <td>432600.0</td>\n",
              "    </tr>\n",
              "    <tr>\n",
              "      <th>486</th>\n",
              "      <td>6.976</td>\n",
              "      <td>5.64</td>\n",
              "      <td>21.0</td>\n",
              "      <td>501900.0</td>\n",
              "    </tr>\n",
              "    <tr>\n",
              "      <th>487</th>\n",
              "      <td>6.794</td>\n",
              "      <td>6.48</td>\n",
              "      <td>21.0</td>\n",
              "      <td>462000.0</td>\n",
              "    </tr>\n",
              "    <tr>\n",
              "      <th>488</th>\n",
              "      <td>6.030</td>\n",
              "      <td>7.88</td>\n",
              "      <td>21.0</td>\n",
              "      <td>249900.0</td>\n",
              "    </tr>\n",
              "  </tbody>\n",
              "</table>\n",
              "<p>489 rows × 4 columns</p>\n",
              "</div>"
            ],
            "text/plain": [
              "        RM  LSTAT  PTRATIO      MEDV\n",
              "0    6.575   4.98     15.3  504000.0\n",
              "1    6.421   9.14     17.8  453600.0\n",
              "2    7.185   4.03     17.8  728700.0\n",
              "3    6.998   2.94     18.7  701400.0\n",
              "4    7.147   5.33     18.7  760200.0\n",
              "5    6.430   5.21     18.7  602700.0\n",
              "6    6.012  12.43     15.2  480900.0\n",
              "7    6.172  19.15     15.2  569100.0\n",
              "8    5.631  29.93     15.2  346500.0\n",
              "9    6.004  17.10     15.2  396900.0\n",
              "..     ...    ...      ...       ...\n",
              "479  5.390  21.14     19.2  413700.0\n",
              "480  5.794  14.10     19.2  384300.0\n",
              "481  6.019  12.92     19.2  445200.0\n",
              "482  5.569  15.10     19.2  367500.0\n",
              "483  6.027  14.33     19.2  352800.0\n",
              "484  6.593   9.67     21.0  470400.0\n",
              "485  6.120   9.08     21.0  432600.0\n",
              "486  6.976   5.64     21.0  501900.0\n",
              "487  6.794   6.48     21.0  462000.0\n",
              "488  6.030   7.88     21.0  249900.0\n",
              "\n",
              "[489 rows x 4 columns]"
            ]
          },
          "metadata": {
            "tags": []
          },
          "execution_count": 3
        }
      ]
    },
    {
      "cell_type": "code",
      "metadata": {
        "colab": {
          "base_uri": "https://localhost:8080/",
          "height": 729
        },
        "id": "Zg-dN36iJHs0",
        "outputId": "a459a888-b137-4bfd-f5a6-a8c4e61af59b"
      },
      "source": [
        "from sklearn.model_selection import train_test_split\n",
        "data_train, data_test = train_test_split(data,test_size=0.2,random_state=0)\n",
        "data_train"
      ],
      "execution_count": null,
      "outputs": [
        {
          "output_type": "execute_result",
          "data": {
            "text/html": [
              "<div>\n",
              "<style scoped>\n",
              "    .dataframe tbody tr th:only-of-type {\n",
              "        vertical-align: middle;\n",
              "    }\n",
              "\n",
              "    .dataframe tbody tr th {\n",
              "        vertical-align: top;\n",
              "    }\n",
              "\n",
              "    .dataframe thead th {\n",
              "        text-align: right;\n",
              "    }\n",
              "</style>\n",
              "<table border=\"1\" class=\"dataframe\">\n",
              "  <thead>\n",
              "    <tr style=\"text-align: right;\">\n",
              "      <th></th>\n",
              "      <th>RM</th>\n",
              "      <th>LSTAT</th>\n",
              "      <th>PTRATIO</th>\n",
              "      <th>MEDV</th>\n",
              "    </tr>\n",
              "  </thead>\n",
              "  <tbody>\n",
              "    <tr>\n",
              "      <th>447</th>\n",
              "      <td>6.209</td>\n",
              "      <td>13.22</td>\n",
              "      <td>20.2</td>\n",
              "      <td>449400.0</td>\n",
              "    </tr>\n",
              "    <tr>\n",
              "      <th>457</th>\n",
              "      <td>5.427</td>\n",
              "      <td>18.14</td>\n",
              "      <td>20.2</td>\n",
              "      <td>289800.0</td>\n",
              "    </tr>\n",
              "    <tr>\n",
              "      <th>386</th>\n",
              "      <td>5.349</td>\n",
              "      <td>19.77</td>\n",
              "      <td>20.2</td>\n",
              "      <td>174300.0</td>\n",
              "    </tr>\n",
              "    <tr>\n",
              "      <th>361</th>\n",
              "      <td>6.380</td>\n",
              "      <td>23.69</td>\n",
              "      <td>20.2</td>\n",
              "      <td>275100.0</td>\n",
              "    </tr>\n",
              "    <tr>\n",
              "      <th>221</th>\n",
              "      <td>6.552</td>\n",
              "      <td>3.76</td>\n",
              "      <td>17.4</td>\n",
              "      <td>661500.0</td>\n",
              "    </tr>\n",
              "    <tr>\n",
              "      <th>59</th>\n",
              "      <td>5.927</td>\n",
              "      <td>9.22</td>\n",
              "      <td>19.7</td>\n",
              "      <td>411600.0</td>\n",
              "    </tr>\n",
              "    <tr>\n",
              "      <th>378</th>\n",
              "      <td>6.471</td>\n",
              "      <td>17.12</td>\n",
              "      <td>20.2</td>\n",
              "      <td>275100.0</td>\n",
              "    </tr>\n",
              "    <tr>\n",
              "      <th>382</th>\n",
              "      <td>5.852</td>\n",
              "      <td>29.97</td>\n",
              "      <td>20.2</td>\n",
              "      <td>132300.0</td>\n",
              "    </tr>\n",
              "    <tr>\n",
              "      <th>154</th>\n",
              "      <td>6.129</td>\n",
              "      <td>15.12</td>\n",
              "      <td>14.7</td>\n",
              "      <td>357000.0</td>\n",
              "    </tr>\n",
              "    <tr>\n",
              "      <th>463</th>\n",
              "      <td>6.242</td>\n",
              "      <td>10.74</td>\n",
              "      <td>20.2</td>\n",
              "      <td>483000.0</td>\n",
              "    </tr>\n",
              "    <tr>\n",
              "      <th>...</th>\n",
              "      <td>...</td>\n",
              "      <td>...</td>\n",
              "      <td>...</td>\n",
              "      <td>...</td>\n",
              "    </tr>\n",
              "    <tr>\n",
              "      <th>211</th>\n",
              "      <td>5.951</td>\n",
              "      <td>17.92</td>\n",
              "      <td>16.4</td>\n",
              "      <td>451500.0</td>\n",
              "    </tr>\n",
              "    <tr>\n",
              "      <th>9</th>\n",
              "      <td>6.004</td>\n",
              "      <td>17.10</td>\n",
              "      <td>15.2</td>\n",
              "      <td>396900.0</td>\n",
              "    </tr>\n",
              "    <tr>\n",
              "      <th>359</th>\n",
              "      <td>6.649</td>\n",
              "      <td>23.24</td>\n",
              "      <td>20.2</td>\n",
              "      <td>291900.0</td>\n",
              "    </tr>\n",
              "    <tr>\n",
              "      <th>195</th>\n",
              "      <td>6.162</td>\n",
              "      <td>7.43</td>\n",
              "      <td>14.7</td>\n",
              "      <td>506100.0</td>\n",
              "    </tr>\n",
              "    <tr>\n",
              "      <th>251</th>\n",
              "      <td>7.203</td>\n",
              "      <td>9.59</td>\n",
              "      <td>13.0</td>\n",
              "      <td>709800.0</td>\n",
              "    </tr>\n",
              "    <tr>\n",
              "      <th>323</th>\n",
              "      <td>6.310</td>\n",
              "      <td>6.75</td>\n",
              "      <td>20.2</td>\n",
              "      <td>434700.0</td>\n",
              "    </tr>\n",
              "    <tr>\n",
              "      <th>192</th>\n",
              "      <td>7.274</td>\n",
              "      <td>6.62</td>\n",
              "      <td>12.6</td>\n",
              "      <td>726600.0</td>\n",
              "    </tr>\n",
              "    <tr>\n",
              "      <th>117</th>\n",
              "      <td>6.021</td>\n",
              "      <td>10.30</td>\n",
              "      <td>17.8</td>\n",
              "      <td>403200.0</td>\n",
              "    </tr>\n",
              "    <tr>\n",
              "      <th>47</th>\n",
              "      <td>6.030</td>\n",
              "      <td>18.80</td>\n",
              "      <td>17.9</td>\n",
              "      <td>348600.0</td>\n",
              "    </tr>\n",
              "    <tr>\n",
              "      <th>172</th>\n",
              "      <td>6.020</td>\n",
              "      <td>10.11</td>\n",
              "      <td>16.6</td>\n",
              "      <td>487200.0</td>\n",
              "    </tr>\n",
              "  </tbody>\n",
              "</table>\n",
              "<p>391 rows × 4 columns</p>\n",
              "</div>"
            ],
            "text/plain": [
              "        RM  LSTAT  PTRATIO      MEDV\n",
              "447  6.209  13.22     20.2  449400.0\n",
              "457  5.427  18.14     20.2  289800.0\n",
              "386  5.349  19.77     20.2  174300.0\n",
              "361  6.380  23.69     20.2  275100.0\n",
              "221  6.552   3.76     17.4  661500.0\n",
              "59   5.927   9.22     19.7  411600.0\n",
              "378  6.471  17.12     20.2  275100.0\n",
              "382  5.852  29.97     20.2  132300.0\n",
              "154  6.129  15.12     14.7  357000.0\n",
              "463  6.242  10.74     20.2  483000.0\n",
              "..     ...    ...      ...       ...\n",
              "211  5.951  17.92     16.4  451500.0\n",
              "9    6.004  17.10     15.2  396900.0\n",
              "359  6.649  23.24     20.2  291900.0\n",
              "195  6.162   7.43     14.7  506100.0\n",
              "251  7.203   9.59     13.0  709800.0\n",
              "323  6.310   6.75     20.2  434700.0\n",
              "192  7.274   6.62     12.6  726600.0\n",
              "117  6.021  10.30     17.8  403200.0\n",
              "47   6.030  18.80     17.9  348600.0\n",
              "172  6.020  10.11     16.6  487200.0\n",
              "\n",
              "[391 rows x 4 columns]"
            ]
          },
          "metadata": {
            "tags": []
          },
          "execution_count": 4
        }
      ]
    },
    {
      "cell_type": "code",
      "metadata": {
        "id": "cQMGwMucJrtW"
      },
      "source": [
        "response_train = data_train[\"MEDV\"]\n",
        "response_test = data_test[\"MEDV\"]"
      ],
      "execution_count": null,
      "outputs": []
    },
    {
      "cell_type": "code",
      "metadata": {
        "id": "Q4EIO2JoKS6V"
      },
      "source": [
        "features_train= data_train.drop('MEDV', axis=1)\n",
        "features_test= data_test.drop('MEDV', axis=1)"
      ],
      "execution_count": null,
      "outputs": []
    },
    {
      "cell_type": "code",
      "metadata": {
        "colab": {
          "base_uri": "https://localhost:8080/"
        },
        "id": "cL9yHLdjMgx8",
        "outputId": "57195866-19ec-4ced-dd99-1fb6952adf7a"
      },
      "source": [
        "features_train_transpose = np.transpose(features_train)\n",
        "para_val = np.dot(np.dot(np.linalg.inv(np.dot(features_train_transpose,features_train)),features_train_transpose),response_train)\n",
        "para_val"
      ],
      "execution_count": null,
      "outputs": [
        {
          "output_type": "execute_result",
          "data": {
            "text/plain": [
              "array([125573.3921006 ,  -9682.39514102, -11113.22563389])"
            ]
          },
          "metadata": {
            "tags": []
          },
          "execution_count": 7
        }
      ]
    },
    {
      "cell_type": "code",
      "metadata": {
        "colab": {
          "base_uri": "https://localhost:8080/"
        },
        "id": "WvUKDjlIOPdA",
        "outputId": "8a66049a-f0f8-4e4e-8543-1cd5bb86a08f"
      },
      "source": [
        "predict_val_test = np.dot(features_test,para_val)\n",
        "predict_val_test"
      ],
      "execution_count": null,
      "outputs": [
        {
          "output_type": "execute_result",
          "data": {
            "text/plain": [
              "array([417207.54435882, 647892.68903874, 255426.78301919, 444423.94897938,\n",
              "       522687.13963396, 390935.63883918, 168724.57097056, 420341.4682776 ,\n",
              "       464072.39320685, 381760.02076812, 346073.49506606, 356567.95212405,\n",
              "       466215.19666967,  23882.57984012, 521257.63068408, 319723.37499366,\n",
              "       464759.73980795, 582565.46566462, 367289.8970273 , 631907.62651948,\n",
              "       666677.36534408, 663954.65848417, -15075.97121691, 436315.80623112,\n",
              "       339740.12180818, 765277.51128971, 700931.89288462, 762136.84817886,\n",
              "       450069.30115746, 417355.76966088, 407343.14155961, 418470.2487799 ,\n",
              "       471281.01892972, 664049.45083905, 455275.30417704, 829619.72791476,\n",
              "       495696.43602151, 260581.11871897, 503003.51142825, 568059.51939472,\n",
              "       344823.7160397 , 433855.51115655, 385282.38073044, 494976.41082995,\n",
              "       258780.81797039, 362464.9716907 , 519994.24280583, 377610.68794507,\n",
              "       790572.35695241, 399190.23945104, 664966.14051479, 427799.22089143,\n",
              "       600058.88477142, 401855.28496246, 684801.16402956, 573699.03050472,\n",
              "       350001.47898473, 323902.55113088, 477896.43119014, 447532.54234374,\n",
              "       400649.05940745, 405994.48851669, 390733.12881403, 401705.5554336 ,\n",
              "       400696.81011514, 344620.87348061, 230878.34192729, 567822.92639949,\n",
              "       560796.97878929, 343519.0088015 ,  61481.25471193, 548757.53537574,\n",
              "       361587.62372619, 573670.40029355, 423004.39533165, 456885.03705846,\n",
              "       571414.48309049, 483874.21797548, 553408.7383482 , 396793.43098621,\n",
              "       374662.80295753, 733831.97670279, 439506.99414775, 503374.62003339,\n",
              "       465674.03207083, 639566.8992357 , 557729.45098404, 528477.82963812,\n",
              "       469107.30030704, 420700.07945925, 408356.09051043, 248388.6547126 ,\n",
              "       356896.72401573, 457995.21444602, 521132.04247821, 506376.23183305,\n",
              "       447215.27346357, 585916.71306637])"
            ]
          },
          "metadata": {
            "tags": []
          },
          "execution_count": 8
        }
      ]
    },
    {
      "cell_type": "code",
      "metadata": {
        "colab": {
          "base_uri": "https://localhost:8080/"
        },
        "id": "4xPbFl1cOyTS",
        "outputId": "09aa6426-ee69-4d17-eba9-20c560a733fa"
      },
      "source": [
        "predict_val_train = np.dot(features_train,para_val)\n",
        "predict_val_train"
      ],
      "execution_count": null,
      "outputs": [
        {
          "output_type": "execute_result",
          "data": {
            "text/plain": [
              "array([427196.7699838 , 281360.9932673 , 255783.96460358, 347295.1429065 ,\n",
              "       592980.93328326, 436071.26679246, 422335.65766417, 220186.95039176,\n",
              "       459877.08883419, 455353.03187285, 352968.88949849, 565716.91829863,\n",
              "       664626.12116053, 415724.0206792 , 297607.65267024, 664782.45986237,\n",
              "       571326.75167205, 513638.38230187, 412248.00438314, 541793.63533452,\n",
              "       355766.85597302, 803988.17781699, 669058.0325078 , 413730.64255577,\n",
              "       392262.42471823, 435134.28393428, 568216.110535  , 392197.73443264,\n",
              "       347680.60241643, 367244.62291426, 579783.11897312, 514257.93023725,\n",
              "       353184.11793062, 536373.99862532, 638048.54788766, 131536.52865027,\n",
              "       549174.31316845, 406160.29818483, 395693.63392716, 466050.19653293,\n",
              "       362675.03582591, 356639.59893033, 365675.03853431, 262542.10982443,\n",
              "       457916.66963544, 432776.28578675, 191395.84161497, 399523.91194661,\n",
              "       607424.09980715, 505868.60162477, 585474.46564232, 550112.10235185,\n",
              "       348229.58929126, 584738.03098373, 463733.51636661, 200365.6509342 ,\n",
              "       433303.25207208, 383591.07603687, -72505.00479686, 629887.58906826,\n",
              "       631830.29883611, 644532.04849007, 489874.11586604, 557979.16101994,\n",
              "       476061.99352369, 417615.60805189, 522659.26180022, 319906.40721939,\n",
              "       519402.15019892, 538213.97855698, 548191.50048303, 382629.52349878,\n",
              "       401293.54009793, 852870.45833689, 635928.97409314, 268123.02277661,\n",
              "       515253.29839752, 517547.95797434, 729545.78663218, 356872.59530973,\n",
              "       530304.48735244,  91836.05642831, 527674.74102459, 338563.4897907 ,\n",
              "       337229.89183813, 536105.97890734, 468874.11813333, 681982.52959413,\n",
              "       466048.92985147, 369039.43314864, 422205.8878701 , 409605.51268258,\n",
              "       448622.56113653, 394350.2491319 , 434985.39539177, 305763.0727836 ,\n",
              "       544982.7853543 , 304309.81538847, 665409.35354132, 377442.61673479,\n",
              "       376766.14365217, 382150.75482602, 567781.57558457, 618853.35781165,\n",
              "       265200.920572  , 486339.54869029, 547830.1958268 , 408246.10087781,\n",
              "       442909.47009216, 164080.08195618, 704063.06611186, 438367.51790562,\n",
              "       461149.81583222, 372981.01064041, 316384.27135104, 385717.1838468 ,\n",
              "       353715.70495064, 387748.42597169, 153741.03806164, 683865.585551  ,\n",
              "       328217.04655778, 346924.23454009, 735522.49307474, 569618.96820551,\n",
              "       447514.16920737, 228638.74870916, 526073.34472321, 460828.57958196,\n",
              "       315950.36142075, 242182.61553628, 433747.11937693, 349961.50640173,\n",
              "       304844.21921614, 594312.97387926, 507774.5520542 , 335177.74276524,\n",
              "       470711.30421521, 772450.75590609, 563730.8751292 , 390426.52644825,\n",
              "       458527.9151869 , 481455.40694109, 547614.16015574, 695368.8018275 ,\n",
              "       500898.87479395, 377676.53017184, 426654.74456757, 413521.89593933,\n",
              "       461892.73633071, 250475.4869274 , 785934.04966781, 390635.01660203,\n",
              "       400549.84564291, 513064.98593812, 637066.71524915, 497826.64213432,\n",
              "       433584.14407136, 465692.35254246, 437927.41819714, 508501.61294822,\n",
              "       488703.98677834, 263180.05521645, 362280.97203505, 439534.90077466,\n",
              "       804534.41719011, 358652.77568384, 453964.84228292, 448907.46640528,\n",
              "       342384.64876013, 432763.06524402, 344118.93987691, 293454.30968822,\n",
              "       516357.17848065, 422760.76124736, 388687.87463496, 538140.04680202,\n",
              "       446981.75062816, 574303.05448005, 465842.67289535, 613511.47082606,\n",
              "       372880.06315213, 239708.77863963, 505279.60797083, 404523.79077031,\n",
              "       449653.03364459, 352695.99569367, 564088.37982038, 686547.28172966,\n",
              "       294681.70094633, 547036.77703956, 434662.29988794, 279739.94453109,\n",
              "       383035.39989357, 659484.33463527, 560606.6350161 , 423078.92916523,\n",
              "       441690.99006194, 439889.90410224, 516318.67099043, 433681.78743   ,\n",
              "       584165.92964591, 183615.10734023, 404708.17964884, 546936.9873441 ,\n",
              "       459039.14109728, 490545.03453148, 588013.5363868 , 430773.30129132,\n",
              "       419789.61148169, 331782.482994  , 348658.79528088, 448190.18377751,\n",
              "       575727.06523668, 399368.99920351, 385164.59944242, 358064.53706912,\n",
              "       312839.23881335, 402780.65051753, 350173.76415189, 452517.67207765,\n",
              "       225243.35390157, 729211.5282505 , 356456.240936  , 376563.66105778,\n",
              "       582660.3754216 , 642859.26861043, 573293.22835378, 159256.53759265,\n",
              "       642479.03685172, 612362.16814217, 396023.44346842, 649755.34786243,\n",
              "       395889.1910865 , 463765.11004571, 681135.68279763,  27445.65572139,\n",
              "       398176.17010969, 454868.15707658, 539846.42186473, 280275.29914748,\n",
              "       618039.31604917, 419337.40174517, 582361.05132089, 496616.42306153,\n",
              "       762964.93710534, 457164.09997607, 393285.80392117, 425213.67774466,\n",
              "       658370.57863548, 409624.12252992, 398226.28228604, 486296.71880321,\n",
              "       604342.33319195, 779991.05855155, 431863.73179983, 426310.07393738,\n",
              "       412075.29626201, 204955.29494271, 308178.86861538, 277065.5140005 ,\n",
              "       444884.42873115, 526608.75511483, 139849.03801545, 453354.4039704 ,\n",
              "       704656.30480831, 304094.37456564, 508972.57964105, 607394.3730607 ,\n",
              "       412827.14014036, 408190.5260667 , 747379.71416329, 503505.54670657,\n",
              "       400565.30614865, 386987.85090382, 653993.05961689,  85862.12765936,\n",
              "       452535.09761513, 479910.85615649, 444789.57292197, 567497.73356872,\n",
              "       454146.69422301, 533670.48612009, 443851.19474199, 360679.38628449,\n",
              "       180729.41080967, 460075.95187124, 327247.85040332, 186782.42484094,\n",
              "       615942.73521199, 465525.0791603 , 213653.76422183, 267462.01156214,\n",
              "       444314.11734097, 370537.98897709,  54919.02478768, 440070.73056106,\n",
              "       341877.10175784, 557025.96710603, 539447.92632333, 456043.42522722,\n",
              "       374496.45604383, 503549.0866472 , 403512.25790238, 286637.38902868,\n",
              "       395822.83227956, 322901.25056879, 434321.70141294, 375278.59902402,\n",
              "       527086.51996478, 515146.53462647, 621292.43953564, 390068.29597604,\n",
              "       563699.66793184, 552729.88311516, 649853.07267897, 493706.46059183,\n",
              "       593097.21481737, 406306.9251852 , 439213.0111598 , 519480.80125269,\n",
              "       342994.45345974, 266644.9891625 , 433097.07612517, 644025.04915357,\n",
              "       399033.52816751, 437714.262323  ,  69148.4361163 , 484864.42413129,\n",
              "       291940.99891834, 354407.54629155, 422950.03994023, 556622.96739767,\n",
              "       458286.78557669, 610186.4071334 ,  93639.98213718, 457086.13154509,\n",
              "       386651.98662073, 627172.62438883, 240791.70678911, 402845.46588429,\n",
              "       245484.77532922, 312848.56531614, 654559.40363699, 408863.57534148,\n",
              "       673791.96143037, 292021.08086877, 302178.46812405, 493740.49894558,\n",
              "       169288.98415503, 573015.63463249, 539118.39171336, 482208.87070025,\n",
              "       671280.18848517, 595393.91541788, 361877.7639602 , 376642.44843096,\n",
              "       409027.27825552, 785873.5058606 , 561419.09018016, 393989.10466666,\n",
              "       377693.03143764, 636233.72078087, 494781.86974107, 622962.88454301,\n",
              "       309851.34028136, 530951.72641354, 586257.07391669, 128795.96294169,\n",
              "       609951.74991173, 398669.79456412, 582956.54479412, 642797.85228256,\n",
              "       540556.69485839, 228421.18404235, 628824.1688901 , 224391.49806122,\n",
              "       527364.82959126, 481320.64383064, 650774.05055545, 545205.85361733,\n",
              "       534930.22252101, 391521.83506781, 419452.65962545, 385431.46319502,\n",
              "       538478.62940797, 667179.0406577 , 502524.77914838, 709296.75531924,\n",
              "       458533.307602  , 376251.78686883, 473583.26004736])"
            ]
          },
          "metadata": {
            "tags": []
          },
          "execution_count": 9
        }
      ]
    },
    {
      "cell_type": "code",
      "metadata": {
        "id": "qJzcRcBOQdZn"
      },
      "source": [
        "error_test = response_test - predict_val_test"
      ],
      "execution_count": null,
      "outputs": []
    },
    {
      "cell_type": "code",
      "metadata": {
        "id": "K0-UQY2bQyYX"
      },
      "source": [
        "error_train = response_train - predict_val_train"
      ],
      "execution_count": null,
      "outputs": []
    },
    {
      "cell_type": "code",
      "metadata": {
        "colab": {
          "base_uri": "https://localhost:8080/",
          "height": 290
        },
        "id": "XG0yiOwcQ7tt",
        "outputId": "b3bb9f91-2e2d-4fec-f30a-2d4de240c141"
      },
      "source": [
        "\n",
        "plt.scatter(predict_val_train, response_train, color ='b', s=5)\n",
        "plt.scatter(predict_val_test, response_test, color = \"r\",s=5) \n",
        "plt.xlabel(\"Predicted value\")\n",
        "plt.ylabel(\"Actual value\")\n",
        "plt.legend([\"train set\",\"test set\"])\n",
        "plt.show()"
      ],
      "execution_count": null,
      "outputs": [
        {
          "output_type": "display_data",
          "data": {
            "image/png": "[encoded data removed]",
            "text/plain": [
              "<Figure size 432x288 with 1 Axes>"
            ]
          },
          "metadata": {
            "tags": [],
            "needs_background": "light"
          }
        }
      ]
    },
    {
      "cell_type": "code",
      "metadata": {
        "colab": {
          "base_uri": "https://localhost:8080/",
          "height": 279
        },
        "id": "bvnGaFZdTF1x",
        "outputId": "4d0d8687-d02e-4930-f6d1-fca075211cd2"
      },
      "source": [
        "plt.scatter( response_train,error_train, color ='b', s=5)\n",
        "plt.scatter( response_test,error_test, color = \"r\",s=5) \n",
        "plt.xlabel(\"Actual value\")\n",
        "plt.ylabel(\"error\")\n",
        "plt.legend([\"train set\",\"test set\"])\n",
        "plt.show()"
      ],
      "execution_count": null,
      "outputs": [
        {
          "output_type": "display_data",
          "data": {
            "image/png": "[encoded data removed]",
            "text/plain": [
              "<Figure size 432x288 with 1 Axes>"
            ]
          },
          "metadata": {
            "tags": [],
            "needs_background": "light"
          }
        }
      ]
    }
  ]
}